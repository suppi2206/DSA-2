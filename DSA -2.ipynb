{
 "cells": [
  {
   "cell_type": "code",
   "execution_count": 5,
   "id": "28294d20",
   "metadata": {},
   "outputs": [
    {
     "name": "stdout",
     "output_type": "stream",
     "text": [
      "enter the number of rows:5\n",
      "A \n",
      "B B \n",
      "C C C \n",
      "D D D D \n",
      "E E E E E \n"
     ]
    }
   ],
   "source": [
    "#Write a Python Program to print half pyramid using alphabets. The pattern should be as shown below:\n",
    "rows=int(input(\"enter the number of rows:\"))\n",
    "val=65\n",
    "for i in range(0,rows):\n",
    "    for j in range(i+1):\n",
    "        alphabet=chr(val)\n",
    "        print(alphabet,end=\" \")\n",
    "       \n",
    "    val+=1\n",
    "        \n",
    "    print()    \n",
    "        \n"
   ]
  },
  {
   "cell_type": "code",
   "execution_count": 6,
   "id": "7f0fafee",
   "metadata": {},
   "outputs": [
    {
     "name": "stdout",
     "output_type": "stream",
     "text": [
      "enter the number of rows:5\n",
      "* \n",
      "* * * \n",
      "* * * * * \n",
      "* * * * * * * \n",
      "* * * * * * * * * \n"
     ]
    }
   ],
   "source": [
    "#Write a Python Program to print full pyramid using '*' symbol. The pattern should be as shown below:\n",
    "n=int(input(\"enter the number of rows:\"))\n",
    "\n",
    "for i in range(n):\n",
    "    for j in range(n-i-1):\n",
    "        print(\"\",end=\"\")\n",
    "    for j in range(2*i+1):\n",
    "        print(\"*\",end=\" \")\n",
    "    print()    \n",
    "        \n"
   ]
  },
  {
   "cell_type": "code",
   "execution_count": 7,
   "id": "62b346aa",
   "metadata": {},
   "outputs": [
    {
     "name": "stdout",
     "output_type": "stream",
     "text": [
      "Enter the number: 567\n",
      "Reverse of the number: 765\n"
     ]
    }
   ],
   "source": [
    "#Take a number as input from the user. Print the number in reversed order. For example, for input 567, output should be: 765\n",
    "\n",
    "n=int(input(\"Enter the number: \"))\n",
    "rev=0\n",
    "while(n>0):\n",
    "    dig=n%10\n",
    "    rev=rev*10+dig\n",
    "    n=n//10\n",
    "print(\"Reverse of the number:\",rev)\n"
   ]
  },
  {
   "cell_type": "code",
   "execution_count": 18,
   "id": "584ab076",
   "metadata": {},
   "outputs": [
    {
     "name": "stdout",
     "output_type": "stream",
     "text": [
      "90\n"
     ]
    }
   ],
   "source": [
    "def peak_element(arr,n):\n",
    "    max_index=0\n",
    "    for i in range(n):\n",
    "         if arr[i]>arr[max_index]:\n",
    "            max_index= i\n",
    "    return arr[max_index]        \n",
    "arr=[10, 20, 15, 2, 23, 90, 67]\n",
    "n=len(arr)\n",
    "print(peak_element(arr,n))\n",
    "      \n"
   ]
  },
  {
   "cell_type": "code",
   "execution_count": 20,
   "id": "ca588c78",
   "metadata": {},
   "outputs": [
    {
     "name": "stdout",
     "output_type": "stream",
     "text": [
      "[5, 1, 2, 3, 4]\n"
     ]
    }
   ],
   "source": [
    "def cyclically_rotate(arr,n):\n",
    "    temp=arr[n-1]\n",
    "    for i in range(n-1,0,-1):\n",
    "        arr[i]=arr[i-1]\n",
    "    arr[0]=temp\n",
    "    return arr\n",
    "arr=[1,2,3,4,5]\n",
    "n=len(arr)\n",
    "print(cyclically_rotate(arr,n))"
   ]
  },
  {
   "cell_type": "code",
   "execution_count": 2,
   "id": "e39567eb",
   "metadata": {},
   "outputs": [
    {
     "name": "stdout",
     "output_type": "stream",
     "text": [
      "5\n"
     ]
    }
   ],
   "source": [
    "def longest_subsequence(arr):\n",
    "    for ele in arr:\n",
    "        s=set()\n",
    "    for ele in arr:\n",
    "        s.add(ele)\n",
    "    ans=0\n",
    "    for ele in arr:\n",
    "        if(ele-1) not in s:\n",
    "            temp=ele\n",
    "            count=1\n",
    "            while (temp+1) in s:\n",
    "                temp+=1\n",
    "                count+=1\n",
    "    ans=max(ans,count)\n",
    "    return ans\n",
    "arr=[36, 41, 56, 35, 44, 33, 34, 92, 43, 32, 42]\n",
    "\n",
    "print(longest_subsequence(arr))"
   ]
  },
  {
   "cell_type": "code",
   "execution_count": null,
   "id": "500b3c7d",
   "metadata": {},
   "outputs": [],
   "source": []
  }
 ],
 "metadata": {
  "kernelspec": {
   "display_name": "Python 3 (ipykernel)",
   "language": "python",
   "name": "python3"
  },
  "language_info": {
   "codemirror_mode": {
    "name": "ipython",
    "version": 3
   },
   "file_extension": ".py",
   "mimetype": "text/x-python",
   "name": "python",
   "nbconvert_exporter": "python",
   "pygments_lexer": "ipython3",
   "version": "3.10.6"
  }
 },
 "nbformat": 4,
 "nbformat_minor": 5
}
